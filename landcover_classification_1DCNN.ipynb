{
 "cells": [
  {
   "cell_type": "code",
   "execution_count": 12,
   "id": "c75b819c",
   "metadata": {},
   "outputs": [],
   "source": [
    "import os\n",
    "from matplotlib import pyplot as plt\n",
    "import pandas as pd\n",
    "import numpy as np\n",
    "from sklearn.model_selection import train_test_split\n",
    "from sklearn.preprocessing import LabelEncoder\n",
    "from tensorflow.keras.models import Sequential\n",
    "from tensorflow.keras.layers import Conv1D, MaxPooling1D, Flatten, Dense\n",
    "from tensorflow.keras.utils import to_categorical\n",
    "\n",
    "# Load the data from Excel\n",
    "data = pd.read_excel(r\"C:\\maruf_files\\jupyter_notebook\\class_1dcnn\\samples.xlsx\")\n",
    "\n",
    "# Extract features (bands) and labels\n",
    "X = data[['B1', 'B2', 'B3', 'B4', 'B5']].values\n",
    "y = data['LandCover'].values\n"
   ]
  },
  {
   "cell_type": "code",
   "execution_count": 13,
   "id": "036b00db",
   "metadata": {},
   "outputs": [
    {
     "name": "stdout",
     "output_type": "stream",
     "text": [
      "[[0.45524297 0.46094022 0.48700089 0.66651257 0.73157072]\n",
      " [0.43682864 0.45304701 0.46019276 0.62213388 0.70903881]\n",
      " [0.4514919  0.47278003 0.50328015 0.64534024 0.72362594]\n",
      " ...\n",
      " [0.20375107 0.19373186 0.20871467 0.3100037  0.45363376]\n",
      " [0.19778346 0.19442832 0.19802381 0.3002034  0.43826517]\n",
      " [0.20767263 0.19315148 0.19680894 0.30159024 0.42875749]]\n"
     ]
    }
   ],
   "source": [
    "# Feature scaling: Min Max Scaler method\n",
    "# Import the module\n",
    "from sklearn.preprocessing import MinMaxScaler\n",
    "\n",
    "# Define the scaling object\n",
    "scaler = MinMaxScaler()\n",
    "\n",
    "# Fit the scaler to X\n",
    "scaler.fit(X)\n",
    "\n",
    "#  Transform the original X to scaled/normalized X\n",
    "X = scaler.transform(X)\n",
    "print(X)\n"
   ]
  },
  {
   "cell_type": "code",
   "execution_count": 14,
   "id": "beb584d6",
   "metadata": {},
   "outputs": [],
   "source": [
    "# Encode categorical labels\n",
    "label_encoder = LabelEncoder()\n",
    "y = label_encoder.fit_transform(y)"
   ]
  },
  {
   "cell_type": "code",
   "execution_count": 15,
   "id": "07738c9c",
   "metadata": {},
   "outputs": [],
   "source": [
    "# Split the data into training and testing sets\n",
    "X_train, X_test, y_train, y_test = train_test_split(X, y, test_size=0.3, random_state=0)\n",
    "\n",
    "# Reshape data for CNN input (assuming each sample has 5 bands)\n",
    "X_train = np.array(X_train).reshape(X_train.shape[0], X_train.shape[1], 1)\n",
    "X_test = np.array(X_test).reshape(X_test.shape[0], X_test.shape[1], 1)\n"
   ]
  },
  {
   "cell_type": "code",
   "execution_count": 16,
   "id": "1ee30c2a",
   "metadata": {},
   "outputs": [
    {
     "name": "stdout",
     "output_type": "stream",
     "text": [
      "Model: \"sequential_2\"\n",
      "_________________________________________________________________\n",
      " Layer (type)                Output Shape              Param #   \n",
      "=================================================================\n",
      " conv1d_1 (Conv1D)           (None, 3, 64)             256       \n",
      "                                                                 \n",
      " max_pooling1d_1 (MaxPoolin  (None, 1, 64)             0         \n",
      " g1D)                                                            \n",
      "                                                                 \n",
      " flatten_1 (Flatten)         (None, 64)                0         \n",
      "                                                                 \n",
      " dense_3 (Dense)             (None, 128)               8320      \n",
      "                                                                 \n",
      " dense_4 (Dense)             (None, 256)               33024     \n",
      "                                                                 \n",
      " dense_5 (Dense)             (None, 3)                 771       \n",
      "                                                                 \n",
      "=================================================================\n",
      "Total params: 42371 (165.51 KB)\n",
      "Trainable params: 42371 (165.51 KB)\n",
      "Non-trainable params: 0 (0.00 Byte)\n",
      "_________________________________________________________________\n"
     ]
    }
   ],
   "source": [
    "# Define the CNN model\n",
    "model = Sequential()\n",
    "#model.add(Conv1D(filters=32, kernel_size=3, activation='relu', input_shape=(5, 1)))\n",
    "model.add(Conv1D(filters=64, kernel_size=3, activation='relu', input_shape=(X_train.shape[1],1)))\n",
    "model.add(MaxPooling1D(pool_size=2))\n",
    "model.add(Flatten())\n",
    "model.add(Dense(128, activation='relu'))\n",
    "model.add(Dense(256, activation='relu'))\n",
    "model.add(Dense(3, activation='softmax'))\n",
    "model.summary()"
   ]
  },
  {
   "cell_type": "code",
   "execution_count": 17,
   "id": "ae4c6ecb",
   "metadata": {},
   "outputs": [
    {
     "name": "stderr",
     "output_type": "stream",
     "text": [
      "WARNING:absl:`lr` is deprecated in Keras optimizer, please use `learning_rate` or use the legacy optimizer, e.g.,tf.keras.optimizers.legacy.Adam.\n"
     ]
    },
    {
     "name": "stdout",
     "output_type": "stream",
     "text": [
      "Epoch 1/20\n",
      "375/375 [==============================] - 3s 4ms/step - loss: 0.5811 - accuracy: 0.6745 - val_loss: 0.5116 - val_accuracy: 0.7017\n",
      "Epoch 2/20\n",
      "375/375 [==============================] - 1s 4ms/step - loss: 0.4953 - accuracy: 0.7211 - val_loss: 0.4766 - val_accuracy: 0.7592\n",
      "Epoch 3/20\n",
      "375/375 [==============================] - 1s 4ms/step - loss: 0.4710 - accuracy: 0.7647 - val_loss: 0.4330 - val_accuracy: 0.7906\n",
      "Epoch 4/20\n",
      "375/375 [==============================] - 1s 4ms/step - loss: 0.4412 - accuracy: 0.7914 - val_loss: 0.4197 - val_accuracy: 0.7909\n",
      "Epoch 5/20\n",
      "375/375 [==============================] - 1s 4ms/step - loss: 0.4182 - accuracy: 0.8068 - val_loss: 0.4015 - val_accuracy: 0.8059\n",
      "Epoch 6/20\n",
      "375/375 [==============================] - 1s 4ms/step - loss: 0.4083 - accuracy: 0.8136 - val_loss: 0.4007 - val_accuracy: 0.8076\n",
      "Epoch 7/20\n",
      "375/375 [==============================] - 1s 4ms/step - loss: 0.3943 - accuracy: 0.8206 - val_loss: 0.3807 - val_accuracy: 0.8216\n",
      "Epoch 8/20\n",
      "375/375 [==============================] - 1s 4ms/step - loss: 0.3836 - accuracy: 0.8259 - val_loss: 0.3643 - val_accuracy: 0.8337\n",
      "Epoch 9/20\n",
      "375/375 [==============================] - 1s 4ms/step - loss: 0.3778 - accuracy: 0.8251 - val_loss: 0.3778 - val_accuracy: 0.8216\n",
      "Epoch 10/20\n",
      "375/375 [==============================] - 2s 5ms/step - loss: 0.3789 - accuracy: 0.8245 - val_loss: 0.4305 - val_accuracy: 0.7872\n",
      "Epoch 11/20\n",
      "375/375 [==============================] - 2s 4ms/step - loss: 0.3718 - accuracy: 0.8285 - val_loss: 0.3591 - val_accuracy: 0.8350\n",
      "Epoch 12/20\n",
      "375/375 [==============================] - 1s 4ms/step - loss: 0.3705 - accuracy: 0.8269 - val_loss: 0.3706 - val_accuracy: 0.8277\n",
      "Epoch 13/20\n",
      "375/375 [==============================] - 1s 4ms/step - loss: 0.3653 - accuracy: 0.8321 - val_loss: 0.3662 - val_accuracy: 0.8327\n",
      "Epoch 14/20\n",
      "375/375 [==============================] - 2s 5ms/step - loss: 0.3646 - accuracy: 0.8323 - val_loss: 0.3601 - val_accuracy: 0.8320\n",
      "Epoch 15/20\n",
      "375/375 [==============================] - 2s 4ms/step - loss: 0.3641 - accuracy: 0.8301 - val_loss: 0.3445 - val_accuracy: 0.8397\n",
      "Epoch 16/20\n",
      "375/375 [==============================] - 2s 5ms/step - loss: 0.3647 - accuracy: 0.8321 - val_loss: 0.3553 - val_accuracy: 0.8347\n",
      "Epoch 17/20\n",
      "375/375 [==============================] - 1s 4ms/step - loss: 0.3651 - accuracy: 0.8332 - val_loss: 0.3629 - val_accuracy: 0.8300\n",
      "Epoch 18/20\n",
      "375/375 [==============================] - 1s 4ms/step - loss: 0.3617 - accuracy: 0.8341 - val_loss: 0.3677 - val_accuracy: 0.8243\n",
      "Epoch 19/20\n",
      "375/375 [==============================] - 1s 4ms/step - loss: 0.3545 - accuracy: 0.8347 - val_loss: 0.3533 - val_accuracy: 0.8303\n",
      "Epoch 20/20\n",
      "375/375 [==============================] - 1s 4ms/step - loss: 0.3563 - accuracy: 0.8366 - val_loss: 0.3656 - val_accuracy: 0.8313\n"
     ]
    }
   ],
   "source": [
    "# Specify 1DCNN model parameters\n",
    "from tensorflow.keras.optimizers import Adam, SGD\n",
    "\n",
    "# change this following parameters to see how the results change\n",
    "batch_size = 32\n",
    "learn_rate = 0.01\n",
    "opt = Adam(lr = learn_rate)\n",
    "epochs = 20\n",
    "\n",
    "# Model Compile\n",
    "model.compile(optimizer = opt, loss = 'sparse_categorical_crossentropy', metrics=['accuracy'])\n",
    "\n",
    "#Train the model\n",
    "history = model.fit(X_train, y_train, epochs = epochs, batch_size = batch_size, validation_split = 0.20, verbose=1)"
   ]
  },
  {
   "cell_type": "code",
   "execution_count": 18,
   "id": "ab122fe3",
   "metadata": {},
   "outputs": [
    {
     "name": "stdout",
     "output_type": "stream",
     "text": [
      "dict_keys(['loss', 'accuracy', 'val_loss', 'val_accuracy'])\n"
     ]
    },
    {
     "data": {
      "image/png": "[encoded data removed]",
      "text/plain": [
       "<Figure size 432x288 with 1 Axes>"
      ]
     },
     "metadata": {
      "needs_background": "light"
     },
     "output_type": "display_data"
    },
    {
     "data": {
      "image/png": "[encoded data removed]",
      "text/plain": [
       "<Figure size 432x288 with 1 Axes>"
      ]
     },
     "metadata": {
      "needs_background": "light"
     },
     "output_type": "display_data"
    }
   ],
   "source": [
    "# List all data in history\n",
    "print(history.history.keys())\n",
    "\n",
    "# Visulize the traning Loss acorss different epochs\n",
    "plt.plot(history.history['loss'])\n",
    "plt.plot(history.history['val_loss'])\n",
    "plt.title('Model Loss')\n",
    "plt.ylabel('MSE')\n",
    "plt.xlabel('Number of Epochs')\n",
    "plt.legend(['Training Loss', 'Validation Loss'], loc='upper right')\n",
    "plt.show()\n",
    "\n",
    "# Visulize the training Accuracy acorss different epochs\n",
    "plt.plot(history.history['accuracy'])\n",
    "plt.plot(history.history['val_accuracy'])\n",
    "plt.title('Model Accuracy')\n",
    "plt.ylabel('Overall Accuracy')\n",
    "plt.xlabel('Number of Epochs')\n",
    "plt.legend(['Training Accuracy','Validation Accuracy'], loc = 'lower right')\n",
    "plt.show()"
   ]
  },
  {
   "cell_type": "code",
   "execution_count": 19,
   "id": "f41118ad",
   "metadata": {},
   "outputs": [
    {
     "name": "stdout",
     "output_type": "stream",
     "text": [
      "468/468 [==============================] - 1s 2ms/step\n",
      "Model Training accuracy:  0.8365\n",
      "Model Training kappa:  0.7534\n",
      "Model Training f-score:  0.8363\n",
      "[[4468   27  766]\n",
      " [   0 4991  297]\n",
      " [  62 1296 3061]]\n"
     ]
    },
    {
     "data": {
      "image/png": "[encoded data removed]",
      "text/plain": [
       "<Figure size 432x288 with 2 Axes>"
      ]
     },
     "metadata": {
      "needs_background": "light"
     },
     "output_type": "display_data"
    }
   ],
   "source": [
    "# Evaluate the performance of the model at the Training accuracy\n",
    "import matplotlib.pyplot as plt\n",
    "from sklearn.metrics import accuracy_score,cohen_kappa_score,f1_score,classification_report,confusion_matrix\n",
    "predictions = model.predict(X_train)\n",
    "y_pred_train = np.argmax(predictions, axis=1)\n",
    "\n",
    "print('Model Training accuracy: % .4f' % accuracy_score(y_train, y_pred_train))\n",
    "print('Model Training kappa: % .4f' % cohen_kappa_score(y_train, y_pred_train))\n",
    "print('Model Training f-score: % .4f' % f1_score(y_train, y_pred_train, average = 'weighted'))\n",
    "\n",
    "cm_testing = confusion_matrix(y_train, y_pred_train)\n",
    "print(cm_testing)\n",
    "plt.imshow(cm_testing,cmap = 'jet')\n",
    "plt.colorbar()\n",
    "plt.show()\n"
   ]
  },
  {
   "cell_type": "code",
   "execution_count": 20,
   "id": "fdb4260d",
   "metadata": {},
   "outputs": [
    {
     "name": "stdout",
     "output_type": "stream",
     "text": [
      "201/201 [==============================] - 0s 2ms/step\n",
      "Model Testing accuracy:  0.8371\n",
      "Model Testing kappa:  0.7534\n",
      "Model Testing f-score:  0.8370\n",
      "[[1885    9  318]\n",
      " [   1 2221  140]\n",
      " [  15  562 1265]]\n"
     ]
    },
    {
     "data": {
      "image/png": "[encoded data removed]",
      "text/plain": [
       "<Figure size 432x288 with 2 Axes>"
      ]
     },
     "metadata": {
      "needs_background": "light"
     },
     "output_type": "display_data"
    }
   ],
   "source": [
    "# Evaluate the performance of the model at the Testing accuracy\n",
    "import matplotlib.pyplot as plt\n",
    "from sklearn.metrics import accuracy_score,cohen_kappa_score,f1_score,classification_report,confusion_matrix\n",
    "predictions = model.predict(X_test)\n",
    "y_pred_test = np.argmax(predictions, axis=1)\n",
    "\n",
    "print('Model Testing accuracy: % .4f' % accuracy_score(y_test, y_pred_test))\n",
    "print('Model Testing kappa: % .4f' % cohen_kappa_score(y_test, y_pred_test))\n",
    "print('Model Testing f-score: % .4f' % f1_score(y_test, y_pred_test, average = 'weighted'))\n",
    "\n",
    "cm_testing = confusion_matrix(y_test, y_pred_test)\n",
    "print(cm_testing)\n",
    "plt.imshow(cm_testing,cmap = 'jet')\n",
    "plt.colorbar()\n",
    "plt.show()"
   ]
  },
  {
   "cell_type": "code",
   "execution_count": null,
   "id": "1df282c9",
   "metadata": {},
   "outputs": [],
   "source": []
  }
 ],
 "metadata": {
  "kernelspec": {
   "display_name": "Python 3 (ipykernel)",
   "language": "python",
   "name": "python3"
  },
  "language_info": {
   "codemirror_mode": {
    "name": "ipython",
    "version": 3
   },
   "file_extension": ".py",
   "mimetype": "text/x-python",
   "name": "python",
   "nbconvert_exporter": "python",
   "pygments_lexer": "ipython3",
   "version": "3.9.12"
  }
 },
 "nbformat": 4,
 "nbformat_minor": 5
}
